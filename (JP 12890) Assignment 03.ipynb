{
 "cells": [
  {
   "cell_type": "markdown",
   "metadata": {},
   "source": [
    "1. Write a Python program to print the following string in a specific format (see the\n",
    "output)."
   ]
  },
  {
   "cell_type": "code",
   "execution_count": 1,
   "metadata": {},
   "outputs": [
    {
     "name": "stdout",
     "output_type": "stream",
     "text": [
      "\tTwinkle, twinkle, little star,\n",
      "\t\tHow I wonder what you are!\n",
      "\t\t\tUp above the world so high,\n",
      "\t\t\tLike a diamond in the sky.\n",
      "\tTwinkle, twinkle, little star,\n",
      "\t\tHow I wonder what you are.\n"
     ]
    }
   ],
   "source": [
    "print(\"\\tTwinkle, twinkle, little star,\\n\\t\\tHow I wonder what you are!\\n\\t\\t\\tUp above the world so high,\\n\\t\\t\\tLike a diamond in the sky.\\n\\tTwinkle, twinkle, little star,\\n\\t\\tHow I wonder what you are.\")"
   ]
  },
  {
   "cell_type": "markdown",
   "metadata": {},
   "source": [
    "2. Write a Python program to get the Python version you are using"
   ]
  },
  {
   "cell_type": "code",
   "execution_count": 2,
   "metadata": {},
   "outputs": [
    {
     "name": "stdout",
     "output_type": "stream",
     "text": [
      "Current Version is : 3.7.3 (default, Apr 24 2019, 13:20:13) [MSC v.1915 32 bit (Intel)]\n"
     ]
    }
   ],
   "source": [
    "import sys\n",
    "print(\"Current Version is :\",sys.version)"
   ]
  },
  {
   "cell_type": "markdown",
   "metadata": {},
   "source": [
    "3. Write a Python program to display the current date and time. "
   ]
  },
  {
   "cell_type": "code",
   "execution_count": 3,
   "metadata": {},
   "outputs": [
    {
     "name": "stdout",
     "output_type": "stream",
     "text": [
      "Current date and time is : 2021-10-24 17:08:53.636257\n"
     ]
    }
   ],
   "source": [
    "import datetime\n",
    "print(\"Current date and time is :\",datetime.datetime.now())"
   ]
  },
  {
   "cell_type": "markdown",
   "metadata": {},
   "source": [
    "4. Write a Python program which accepts the radius of a circle from the user and compute\n",
    "the area. "
   ]
  },
  {
   "cell_type": "code",
   "execution_count": 4,
   "metadata": {},
   "outputs": [
    {
     "name": "stdout",
     "output_type": "stream",
     "text": [
      "Enter radius of the circle :5\n",
      "Area of the circle is : 78.57142857142857\n"
     ]
    }
   ],
   "source": [
    "r = eval(input(\"Enter radius of the circle :\"))\n",
    "pi = 22/7\n",
    "a = pi*r**2\n",
    "print(\"Area of the circle is :\",a)"
   ]
  },
  {
   "cell_type": "markdown",
   "metadata": {},
   "source": [
    "5. Write a Python program which accepts the user's first and last name and print them in\n",
    "reverse order with a space between them. "
   ]
  },
  {
   "cell_type": "code",
   "execution_count": 5,
   "metadata": {},
   "outputs": [
    {
     "name": "stdout",
     "output_type": "stream",
     "text": [
      "Enter First name :Muhammad\n",
      "Enter Last name :Shakir\n",
      "Name is reverse order : rikahS dammahuM\n"
     ]
    }
   ],
   "source": [
    "first = input(\"Enter First name :\")\n",
    "last = input(\"Enter Last name :\")\n",
    "reverse = first + \" \" + last\n",
    "print(\"Name is reverse order :\",reverse[::-1])"
   ]
  },
  {
   "cell_type": "markdown",
   "metadata": {},
   "source": [
    "6. Write a python program which takes two inputs from user and print them addition "
   ]
  },
  {
   "cell_type": "code",
   "execution_count": 6,
   "metadata": {},
   "outputs": [
    {
     "name": "stdout",
     "output_type": "stream",
     "text": [
      "Enter first number :6\n",
      "Enter second number :8\n",
      "Addition is : 14\n"
     ]
    }
   ],
   "source": [
    "a = eval(input(\"Enter first number :\"))\n",
    "b = eval(input(\"Enter second number :\"))\n",
    "print(\"Addition is :\",a+b)"
   ]
  },
  {
   "cell_type": "markdown",
   "metadata": {},
   "source": [
    "7. Write a program which takes 5 inputs from user for different subject’s marks, total it\n",
    "and generate mark sheet using grades ? "
   ]
  },
  {
   "cell_type": "code",
   "execution_count": 7,
   "metadata": {},
   "outputs": [
    {
     "name": "stdout",
     "output_type": "stream",
     "text": [
      "Enter marks of English :78\n",
      "Enter marks of Islamiat :90\n",
      "Enter marks of Maths :70\n",
      "Enter marks of Computer :99\n",
      "Enter marks of Physics :60\n",
      "You scored  397 marks\n",
      "A grade\n"
     ]
    }
   ],
   "source": [
    "english = eval(input(\"Enter marks of English :\"))\n",
    "islamiat = eval(input(\"Enter marks of Islamiat :\"))\n",
    "maths = eval(input(\"Enter marks of Maths :\"))\n",
    "computer = eval(input(\"Enter marks of Computer :\"))\n",
    "physics = eval(input(\"Enter marks of Physics :\"))\n",
    "obtain = english+islamiat+maths+physics+computer\n",
    "print(\"You scored \",obtain,\"marks\")\n",
    "total = 500\n",
    "percentage = (obtain/total)*100\n",
    "if percentage>100 or percentage<0:\n",
    "    print(\"YOU ENTER GREATER THAN 100 OR LESS THAN 0 PERCENTAGE!\")\n",
    "elif percentage <=100 and percentage >=80:\n",
    "    print(\"A+ grade\")\n",
    "elif percentage <80 and percentage >=70 :\n",
    "    print(\"A grade\")\n",
    "elif percentage <70 and percentage >=60:\n",
    "    print(\"B grade\")\n",
    "elif percentage <60 and percentage >=50:\n",
    "    print(\"C grade\")\n",
    "elif percentage <50 and percentage >=40:\n",
    "    print(\"D grade\")\n",
    "elif percentage <40 and percentage >=33:\n",
    "    print(\"E grade\")\n",
    "else:\n",
    "    print(\"Fail\")"
   ]
  },
  {
   "cell_type": "markdown",
   "metadata": {},
   "source": [
    "8. Write a program which take input from user and identify that the given number is even\n",
    "or odd? "
   ]
  },
  {
   "cell_type": "code",
   "execution_count": 8,
   "metadata": {},
   "outputs": [
    {
     "name": "stdout",
     "output_type": "stream",
     "text": [
      "Enter any number :5\n",
      "Odd number\n"
     ]
    }
   ],
   "source": [
    "num = eval(input(\"Enter any number :\"))\n",
    "if num%2==0:\n",
    "    print(\"Even number\")\n",
    "else:\n",
    "    print(\"Odd number\")"
   ]
  },
  {
   "cell_type": "markdown",
   "metadata": {},
   "source": [
    "9. Write a program which print the length of the list? "
   ]
  },
  {
   "cell_type": "code",
   "execution_count": 9,
   "metadata": {},
   "outputs": [
    {
     "name": "stdout",
     "output_type": "stream",
     "text": [
      "Length of the list is : 10\n"
     ]
    }
   ],
   "source": [
    "lst = [1,2,3,4,5,6,7,8,9,10]\n",
    "print(\"Length of the list is :\",len(lst))"
   ]
  },
  {
   "cell_type": "markdown",
   "metadata": {},
   "source": [
    "10.Write a Python program to sum all the numeric items in a list? "
   ]
  },
  {
   "cell_type": "code",
   "execution_count": 10,
   "metadata": {},
   "outputs": [
    {
     "name": "stdout",
     "output_type": "stream",
     "text": [
      "Sum of the numeric items in list is : 55\n"
     ]
    }
   ],
   "source": [
    "lst = [1,2,3,4,5,6,7,8,9,10]\n",
    "sums = 0\n",
    "for i in lst:\n",
    "    sums+=i\n",
    "print(\"Sum of the numeric items in list is :\",sums)"
   ]
  },
  {
   "cell_type": "markdown",
   "metadata": {},
   "source": [
    "11.Write a Python program to get the largest number from a numeric list. "
   ]
  },
  {
   "cell_type": "code",
   "execution_count": 11,
   "metadata": {},
   "outputs": [
    {
     "name": "stdout",
     "output_type": "stream",
     "text": [
      "Largest number of the list is : 10\n"
     ]
    }
   ],
   "source": [
    "lst = [5,8,5,3,6,10,6,4,8,4,9]\n",
    "lst.sort()\n",
    "print(\"Largest number of the list is :\",lst[-1])"
   ]
  },
  {
   "cell_type": "markdown",
   "metadata": {},
   "source": [
    "12. Take a list, say for example this one:\n",
    "\n",
    "a = [1, 1, 2, 3, 5, 8, 13, 21, 34, 55, 89]\n",
    " Write a program that prints out all the elements of the list that are less than 5. "
   ]
  },
  {
   "cell_type": "code",
   "execution_count": 12,
   "metadata": {},
   "outputs": [
    {
     "name": "stdout",
     "output_type": "stream",
     "text": [
      "3 4 4 "
     ]
    }
   ],
   "source": [
    "a = [1,1,2,3,5,8,13,21,34,55,89] \n",
    "for i in lst:\n",
    "    if i<5:\n",
    "        print(i,end=\" \")"
   ]
  }
 ],
 "metadata": {
  "kernelspec": {
   "display_name": "Python 3",
   "language": "python",
   "name": "python3"
  },
  "language_info": {
   "codemirror_mode": {
    "name": "ipython",
    "version": 3
   },
   "file_extension": ".py",
   "mimetype": "text/x-python",
   "name": "python",
   "nbconvert_exporter": "python",
   "pygments_lexer": "ipython3",
   "version": "3.7.3"
  }
 },
 "nbformat": 4,
 "nbformat_minor": 2
}
